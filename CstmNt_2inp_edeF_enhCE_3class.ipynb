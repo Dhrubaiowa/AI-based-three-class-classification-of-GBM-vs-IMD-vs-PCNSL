{
 "cells": [
  {
   "cell_type": "code",
   "execution_count": 1,
   "id": "guilty-confidentiality",
   "metadata": {},
   "outputs": [
    {
     "name": "stdout",
     "output_type": "stream",
     "text": [
      " /device:CPU:0 || Unnamed device || CPU || 256.0 MiB\n",
      " /device:GPU:0 ||  Quadro RTX 6000 || GPU || 21.3 GiB\n"
     ]
    }
   ],
   "source": [
    "from tensorflow.python.client import device_lib\n",
    "devices=device_lib.list_local_devices()\n",
    "def sizeof_fmt(num,suffix='B'):\n",
    "    for unit in ['','Ki','Mi','Gi', 'Ti', 'Pi','Ei','Zi']:\n",
    "        if abs(num)<1024.0:\n",
    "            return \"%3.1f %s%s\" %(num, unit, suffix)\n",
    "        num/=1024.0\n",
    "    return \"%.1f%s%s\" %(num, 'Yi', suffix)\n",
    "for d in devices:\n",
    "    t=d.device_type\n",
    "    name=d.physical_device_desc\n",
    "    l = [item.split(':',1) for item in name.split(\", \")]\n",
    "    name_attr = dict([x for x in l if len (x)==2])\n",
    "    dev = name_attr.get('name', 'Unnamed device')\n",
    "    print(f\" {d.name} || {dev} || {t} || {sizeof_fmt(d.memory_limit)}\")"
   ]
  },
  {
   "cell_type": "code",
   "execution_count": 2,
   "id": "tender-bailey",
   "metadata": {},
   "outputs": [],
   "source": [
    "import tensorflow as tf\n",
    "\n",
    "from tensorflow.compat.v1.keras.backend import set_session\n",
    "\n",
    "config = tf.compat.v1.ConfigProto()\n",
    "config.gpu_options.allow_growth = True\n",
    "sess = tf.compat.v1.Session(config=config)\n",
    "set_session(sess)\n",
    "\n",
    "import cv2\n",
    "import numpy as np\n",
    "import os\n",
    "import matplotlib.pyplot as plt\n",
    "import matplotlib\n",
    "import pathlib\n",
    "from tensorflow.keras import layers\n",
    "from tensorflow.keras.layers import *\n",
    "from tensorflow.keras.models import *\n",
    "from tensorflow.keras.utils import plot_model, to_categorical\n",
    "from tensorflow.keras import backend as K\n",
    "from tensorflow import losses, optimizers\n",
    "from tensorflow.keras.optimizers import *\n",
    "from tensorflow.keras.callbacks import ModelCheckpoint, LearningRateScheduler\n",
    "from tensorflow.keras.initializers import glorot_uniform\n",
    "from tensorflow.keras.metrics import top_k_categorical_accuracy\n",
    "from scipy.ndimage import zoom\n",
    "from tensorflow.python.framework.ops import disable_eager_execution\n",
    "disable_eager_execution()"
   ]
  },
  {
   "cell_type": "code",
   "execution_count": 22,
   "id": "fossil-panama",
   "metadata": {
    "scrolled": true
   },
   "outputs": [
    {
     "name": "stdout",
     "output_type": "stream",
     "text": [
      "Model: \"CstmNet_2\"\n",
      "__________________________________________________________________________________________________\n",
      "Layer (type)                    Output Shape         Param #     Connected to                     \n",
      "==================================================================================================\n",
      "input_1 (InputLayer)            [(None, 128, 128, 64 0                                            \n",
      "__________________________________________________________________________________________________\n",
      "input_2 (InputLayer)            [(None, 128, 128, 64 0                                            \n",
      "__________________________________________________________________________________________________\n",
      "conv3 (Conv3D)                  (None, 128, 128, 64, 23360       input_1[0][0]                    \n",
      "__________________________________________________________________________________________________\n",
      "conv3_1 (Conv3D)                (None, 128, 128, 64, 23360       input_2[0][0]                    \n",
      "__________________________________________________________________________________________________\n",
      "batch_normalization (BatchNorma (None, 128, 128, 64, 128         conv3[0][0]                      \n",
      "__________________________________________________________________________________________________\n",
      "batch_normalization_3 (BatchNor (None, 128, 128, 64, 128         conv3_1[0][0]                    \n",
      "__________________________________________________________________________________________________\n",
      "activation (Activation)         (None, 128, 128, 64, 0           batch_normalization[0][0]        \n",
      "__________________________________________________________________________________________________\n",
      "activation_3 (Activation)       (None, 128, 128, 64, 0           batch_normalization_3[0][0]      \n",
      "__________________________________________________________________________________________________\n",
      "max_pooling3d (MaxPooling3D)    (None, 21, 21, 10, 3 0           activation[0][0]                 \n",
      "__________________________________________________________________________________________________\n",
      "max_pooling3d_3 (MaxPooling3D)  (None, 21, 21, 10, 3 0           activation_3[0][0]               \n",
      "__________________________________________________________________________________________________\n",
      "conv2 (Conv3D)                  (None, 21, 21, 10, 3 221216      max_pooling3d[0][0]              \n",
      "__________________________________________________________________________________________________\n",
      "conv2_1 (Conv3D)                (None, 21, 21, 10, 3 221216      max_pooling3d_3[0][0]            \n",
      "__________________________________________________________________________________________________\n",
      "batch_normalization_1 (BatchNor (None, 21, 21, 10, 3 128         conv2[0][0]                      \n",
      "__________________________________________________________________________________________________\n",
      "batch_normalization_4 (BatchNor (None, 21, 21, 10, 3 128         conv2_1[0][0]                    \n",
      "__________________________________________________________________________________________________\n",
      "activation_1 (Activation)       (None, 21, 21, 10, 3 0           batch_normalization_1[0][0]      \n",
      "__________________________________________________________________________________________________\n",
      "activation_4 (Activation)       (None, 21, 21, 10, 3 0           batch_normalization_4[0][0]      \n",
      "__________________________________________________________________________________________________\n",
      "max_pooling3d_1 (MaxPooling3D)  (None, 7, 7, 3, 32)  0           activation_1[0][0]               \n",
      "__________________________________________________________________________________________________\n",
      "max_pooling3d_4 (MaxPooling3D)  (None, 7, 7, 3, 32)  0           activation_4[0][0]               \n",
      "__________________________________________________________________________________________________\n",
      "conv1 (Conv3D)                  (None, 7, 7, 3, 16)  13840       max_pooling3d_1[0][0]            \n",
      "__________________________________________________________________________________________________\n",
      "conv1_1 (Conv3D)                (None, 7, 7, 3, 16)  13840       max_pooling3d_4[0][0]            \n",
      "__________________________________________________________________________________________________\n",
      "batch_normalization_2 (BatchNor (None, 7, 7, 3, 16)  64          conv1[0][0]                      \n",
      "__________________________________________________________________________________________________\n",
      "batch_normalization_5 (BatchNor (None, 7, 7, 3, 16)  64          conv1_1[0][0]                    \n",
      "__________________________________________________________________________________________________\n",
      "activation_2 (Activation)       (None, 7, 7, 3, 16)  0           batch_normalization_2[0][0]      \n",
      "__________________________________________________________________________________________________\n",
      "activation_5 (Activation)       (None, 7, 7, 3, 16)  0           batch_normalization_5[0][0]      \n",
      "__________________________________________________________________________________________________\n",
      "max_pooling3d_2 (MaxPooling3D)  (None, 3, 3, 1, 16)  0           activation_2[0][0]               \n",
      "__________________________________________________________________________________________________\n",
      "max_pooling3d_5 (MaxPooling3D)  (None, 3, 3, 1, 16)  0           activation_5[0][0]               \n",
      "__________________________________________________________________________________________________\n",
      "concatenate (Concatenate)       (None, 3, 3, 1, 32)  0           max_pooling3d_2[0][0]            \n",
      "                                                                 max_pooling3d_5[0][0]            \n",
      "__________________________________________________________________________________________________\n",
      "flatten (Flatten)               (None, 288)          0           concatenate[0][0]                \n",
      "__________________________________________________________________________________________________\n",
      "fc1 (Dense)                     (None, 512)          147968      flatten[0][0]                    \n",
      "__________________________________________________________________________________________________\n",
      "dropout (Dropout)               (None, 512)          0           fc1[0][0]                        \n",
      "__________________________________________________________________________________________________\n",
      "fc2 (Dense)                     (None, 256)          131328      dropout[0][0]                    \n",
      "__________________________________________________________________________________________________\n",
      "dropout_1 (Dropout)             (None, 256)          0           fc2[0][0]                        \n",
      "__________________________________________________________________________________________________\n",
      "fc3 (Dense)                     (None, 128)          32896       dropout_1[0][0]                  \n",
      "__________________________________________________________________________________________________\n",
      "dropout_2 (Dropout)             (None, 128)          0           fc3[0][0]                        \n",
      "__________________________________________________________________________________________________\n",
      "fc5 (Dense)                     (None, 3)            387         dropout_2[0][0]                  \n",
      "==================================================================================================\n",
      "Total params: 830,051\n",
      "Trainable params: 829,731\n",
      "Non-trainable params: 320\n",
      "__________________________________________________________________________________________________\n"
     ]
    }
   ],
   "source": [
    "def CstmNet_2(input_shape=(128, 128, 64, 1)):\n",
    "\n",
    "    X1_input = Input(input_shape)\n",
    "    X2_input = Input(input_shape)\n",
    "    \n",
    "############ First input branch ######################\n",
    "\n",
    "    X1 = Conv3D(32, (9, 9, 9), strides=1, name='conv3', padding=\"same\", kernel_initializer=glorot_uniform(seed=0))(X1_input)\n",
    "    X1 = BatchNormalization(axis=-1)(X1)\n",
    "    X1 = Activation('relu')(X1)\n",
    "    X1 = MaxPooling3D(6, strides=6)(X1) \n",
    "    \n",
    "    X1 = Conv3D(32, (6, 6, 6), strides=1, name='conv2', padding=\"same\", kernel_initializer=glorot_uniform(seed=0))(X1)\n",
    "    X1 = BatchNormalization(axis=-1)(X1)\n",
    "    X1 = Activation('relu')(X1)\n",
    "    X1 = MaxPooling3D(3, strides=3)(X1) \n",
    "\n",
    "\n",
    "    X1 = Conv3D(16, (3, 3, 3), strides=1, name='conv1', padding=\"same\", kernel_initializer=glorot_uniform(seed=0))(X1)\n",
    "    X1 = BatchNormalization(axis=-1)(X1)\n",
    "    X1 = Activation('relu')(X1)\n",
    "    X1 = MaxPooling3D(3, strides=2)(X1)   \n",
    "      \n",
    "        \n",
    "############ Second input branch ######################\n",
    "\n",
    "    X2 = Conv3D(32, (9, 9, 9), strides=1, name='conv3_1', padding=\"same\", kernel_initializer=glorot_uniform(seed=0))(X2_input)\n",
    "    X2 = BatchNormalization(axis=-1)(X2)\n",
    "    X2 = Activation('relu')(X2)\n",
    "    X2 = MaxPooling3D(6, strides=6)(X2) \n",
    "    \n",
    "    X2 = Conv3D(32, (6, 6, 6), strides=1, name='conv2_1', padding=\"same\", kernel_initializer=glorot_uniform(seed=0))(X2)\n",
    "    X2 = BatchNormalization(axis=-1)(X2)\n",
    "    X2 = Activation('relu')(X2)\n",
    "    X2 = MaxPooling3D(3, strides=3)(X2) \n",
    "\n",
    "    X2 = Conv3D(16, (3, 3, 3), strides=1, name='conv1_1', padding=\"same\", kernel_initializer=glorot_uniform(seed=0))(X2)\n",
    "    X2 = BatchNormalization(axis=-1)(X2)\n",
    "    X2 = Activation('relu')(X2)\n",
    "    X2 = MaxPooling3D(3, strides=2)(X2)     \n",
    "\n",
    "    \n",
    "########## Concatenation layer to concatenate the two inputs prior to dense layers to calculate outputs ########\n",
    "    final_concat = concatenate([X1, X2])\n",
    "\n",
    "    X = Flatten()(final_concat)\n",
    "    \n",
    "############ Final Layer ######################\n",
    "    \n",
    "    X = Dense(512, activation='relu', name='fc1', kernel_initializer=glorot_uniform(seed=0))(X)\n",
    "    X = Dropout(0.1)(X)\n",
    "    X = Dense(256, activation='relu', name='fc2', kernel_initializer=glorot_uniform(seed=0))(X)\n",
    "    X = Dropout(0.1)(X)\n",
    "    X = Dense(128, activation='relu', name='fc3', kernel_initializer=glorot_uniform(seed=0))(X)\n",
    "    drop = Dropout(0.1)(X)\n",
    "    output = Dense(3, activation='softmax', name='fc5',kernel_initializer=glorot_uniform(seed=0))(drop) \n",
    "    model = Model(inputs=[X1_input, X2_input], outputs=output, name='CstmNet_2')\n",
    "    \n",
    "    return model\n",
    "\n",
    "model = CstmNet_2(input_shape=(128, 128, 64, 1))\n",
    "model.summary()"
   ]
  },
  {
   "cell_type": "code",
   "execution_count": 23,
   "id": "altered-gentleman",
   "metadata": {},
   "outputs": [
    {
     "name": "stdout",
     "output_type": "stream",
     "text": [
      "{'GBM': 0, 'LYM': 1, 'Mets': 2}\n",
      "{'GBM': 0, 'LYM': 1, 'Mets': 2}\n",
      "{'GBM': 0, 'LYM': 1, 'Mets': 2}\n",
      "{'GBM': 0, 'LYM': 1, 'Mets': 2}\n",
      "{'GBM': 0, 'LYM': 1, 'Mets': 2}\n",
      "{'GBM': 0, 'LYM': 1, 'Mets': 2}\n",
      "################ tumor only shapes #####################\n",
      "(299, 128, 128, 64, 1)\n",
      "(299,)\n",
      "(47, 128, 128, 64, 1)\n",
      "(47,)\n",
      "(47, 128, 128, 64, 1)\n",
      "(47,)\n",
      "############## tumor only shapes ############################\n",
      "(299, 128, 128, 64, 1)\n",
      "(299,)\n",
      "(47, 128, 128, 64, 1)\n",
      "(47,)\n",
      "(47, 128, 128, 64, 1)\n",
      "(47,)\n"
     ]
    }
   ],
   "source": [
    "import nibabel as nib\n",
    "def create_dataset(img_folder):\n",
    "   \n",
    "    img_data_array=[]\n",
    "    class_name=[]\n",
    "   \n",
    "    for dir1 in os.listdir(img_folder):\n",
    "        for file in os.listdir(os.path.join(img_folder, dir1)):\n",
    "       \n",
    "            image_path= os.path.join(img_folder, dir1,  file)\n",
    "            image = nib.load(image_path)\n",
    "            img = image.get_fdata()\n",
    "            img = zoom(img, (0.533, 0.533, 0.413)) \n",
    "            img [img<0] = 0\n",
    "            img_nor = img / np.max(img)\n",
    "            img_nor = img_nor.astype(np.float32)\n",
    "            \n",
    "            img_data_array.append(img_nor)\n",
    "            class_name.append(dir1)\n",
    "    return img_data_array, class_name\n",
    "\n",
    "##extract the image array and class name\n",
    "img_train1, class_train1 =create_dataset(r'C:\\\\Dhruba Research Drive\\\\edem_enh\\\\Class_edema\\\\train')\n",
    "img_train2, class_train2 =create_dataset(r'C:\\\\Dhruba Research Drive\\\\edem_enh\\\\Class_edema_LYM\\\\train')\n",
    "img_val, class_val =create_dataset(r'C:\\\\Dhruba Research Drive\\\\edem_enh\\\\Class_edema\\\\val')\n",
    "#img_test, class_test =create_dataset(r'C:\\\\Dhruba Research Drive\\\\edem_enh\\\\Class_edema\\\\test')\n",
    "\n",
    "img_train3, class_train3 =create_dataset(r'C:\\\\Dhruba Research Drive\\\\edem_enh\\\\Class_enh\\\\train')\n",
    "img_train4, class_train4 =create_dataset(r'C:\\\\Dhruba Research Drive\\\\edem_enh\\\\Class_enh_LYM\\\\train')\n",
    "img_val2, class_val2 =create_dataset(r'C:\\\\Dhruba Research Drive\\\\edem_enh\\\\Class_enh\\\\val')\n",
    "#img_test2, class_test2 =create_dataset(r'C:\\\\Dhruba Research Drive\\\\edem_enh\\\\Class_enh\\\\test')\n",
    "\n",
    "####################################################################################################\n",
    "\n",
    "target_dict1={k: v for v, k in enumerate(np.unique(class_train1))}\n",
    "target_val1=  [target_dict1[class_train1[i]] for i in range(len(class_train1))]\n",
    "print(target_dict1)\n",
    "\n",
    "target_dict2={k: v for v, k in enumerate(np.unique(class_train2))}\n",
    "target_val2=  [target_dict2[class_train2[i]] for i in range(len(class_train2))]\n",
    "print(target_dict2)\n",
    "\n",
    "target_dict_val={k: v for v, k in enumerate(np.unique(class_val))}\n",
    "target_val_val=  [target_dict_val[class_val[i]] for i in range(len(class_val))]\n",
    "print(target_dict_val)\n",
    "\n",
    "# target_dict_test={k: v for v, k in enumerate(np.unique(class_test))}\n",
    "# target_val_test=  [target_dict_test[class_test[i]] for i in range(len(class_test))]\n",
    "# print(target_dict_test)\n",
    "\n",
    "#######################################################################################################\n",
    "\n",
    "target_dict3={k: v for v, k in enumerate(np.unique(class_train3))}\n",
    "target_val3=  [target_dict1[class_train3[i]] for i in range(len(class_train3))]\n",
    "print(target_dict3)\n",
    "\n",
    "target_dict4={k: v for v, k in enumerate(np.unique(class_train4))}\n",
    "target_val4=  [target_dict4[class_train4[i]] for i in range(len(class_train4))]\n",
    "print(target_dict4)\n",
    "\n",
    "target_dict_val2={k: v for v, k in enumerate(np.unique(class_val2))}\n",
    "target_val_val2=  [target_dict_val2[class_val2[i]] for i in range(len(class_val2))]\n",
    "print(target_dict_val2)\n",
    "\n",
    "# target_dict_test2={k: v for v, k in enumerate(np.unique(class_test2))}\n",
    "# target_val_test2=  [target_dict_test2[class_test2[i]] for i in range(len(class_test2))]\n",
    "# print(target_dict_test2)\n",
    "\n",
    "#######################################################################################################\n",
    "## F only tumor Shape\n",
    "# For Training Set ##\n",
    "x1=np.array(img_train1, np.float32)\n",
    "y_train1=np.array(list(map(int,target_val1)), np.float32)\n",
    "X_train1 = np.expand_dims(x1, axis=4)\n",
    "# LYM\n",
    "x2=np.array(img_train2, np.float32)\n",
    "y_train2=np.array(list(map(int,target_val2)), np.float32)\n",
    "X_train2 = np.expand_dims(x2, axis=4)\n",
    "\n",
    "## For Validation Set ##\n",
    "x_val=np.array(img_val, np.float32)\n",
    "y_val=np.array(list(map(int,target_val_val)), np.float32)\n",
    "X_val = np.expand_dims(x_val, axis=4)\n",
    "\n",
    "## For Test Set ###\n",
    "# x_test=np.array(img_test, np.float32)\n",
    "# y_test=np.array(list(map(int,target_val_test)), np.float32)\n",
    "# X_test = np.expand_dims(x_test, axis=4)\n",
    "\n",
    "## F brain shape \n",
    "## For Training Set ##\n",
    "x3=np.array(img_train3, np.float32)\n",
    "y_train3=np.array(list(map(int,target_val3)), np.float32)\n",
    "X_train3 = np.expand_dims(x3, axis=4)\n",
    "# LYM\n",
    "x4=np.array(img_train4, np.float32)\n",
    "y_train4=np.array(list(map(int,target_val4)), np.float32)\n",
    "X_train4 = np.expand_dims(x4, axis=4)\n",
    "\n",
    "## For Validation Set ##\n",
    "x_val2=np.array(img_val2, np.float32)\n",
    "y_val2=np.array(list(map(int,target_val_val2)), np.float32)\n",
    "X_val2 = np.expand_dims(x_val2, axis=4)\n",
    "\n",
    "## For Test Set ###\n",
    "# x_test2=np.array(img_test2, np.float32)\n",
    "# y_test2=np.array(list(map(int,target_val_test2)), np.float32)\n",
    "# X_test2 = np.expand_dims(x_test2, axis=4)\n",
    "\n",
    "\n",
    "print(\"################ tumor only shapes #####################\")\n",
    "\n",
    "print(X_train1.shape)\n",
    "print(y_train1.shape)\n",
    "print(X_train2.shape)\n",
    "print(y_train2.shape)\n",
    "\n",
    "print(X_val.shape)\n",
    "print(y_val.shape)\n",
    "\n",
    "#print(X_test.shape)\n",
    "#print(y_test.shape)\n",
    "\n",
    "print(\"############## tumor only shapes ############################\")\n",
    "\n",
    "print(X_train3.shape)\n",
    "print(y_train3.shape)\n",
    "print(X_train4.shape)\n",
    "print(y_train4.shape)\n",
    "\n",
    "print(X_val2.shape)\n",
    "print(y_val2.shape)\n",
    "\n",
    "#print(X_test2.shape)\n",
    "#print(y_test2.shape)"
   ]
  },
  {
   "cell_type": "code",
   "execution_count": 3,
   "id": "catholic-retirement",
   "metadata": {},
   "outputs": [
    {
     "name": "stdout",
     "output_type": "stream",
     "text": [
      "{'GBM': 0, 'LYM': 1, 'Mets': 2}\n",
      "{'GBM': 0, 'LYM': 1, 'Mets': 2}\n",
      "################ Ede_F tumor shapes #####################\n",
      "(96, 128, 128, 64, 1)\n",
      "(96,)\n",
      "############## Enh_CE tumor Shapes ############################\n",
      "(96, 128, 128, 64, 1)\n",
      "(96,)\n"
     ]
    }
   ],
   "source": [
    "import nibabel as nib\n",
    "def create_dataset(img_folder):\n",
    "   \n",
    "    img_data_array=[]\n",
    "    class_name=[]\n",
    "   \n",
    "    for dir1 in os.listdir(img_folder):\n",
    "        for file in os.listdir(os.path.join(img_folder, dir1)):\n",
    "       \n",
    "            image_path= os.path.join(img_folder, dir1,  file)\n",
    "            image = nib.load(image_path)\n",
    "            img = image.get_fdata()\n",
    "            img = zoom(img, (0.533, 0.533, 0.413)) \n",
    "            img [img<0] = 0\n",
    "            img_nor = img / np.max(img)\n",
    "            img_nor = img_nor.astype(np.float32)\n",
    "            \n",
    "            img_data_array.append(img_nor)\n",
    "            class_name.append(dir1)\n",
    "    return img_data_array, class_name\n",
    "\n",
    "# extract the image array and class name\n",
    "\n",
    "img_test, class_test =create_dataset(r'C:\\\\Dhruba Research Drive\\\\edem_enh\\\\Class_edema\\\\test')\n",
    "img_test2, class_test2 =create_dataset(r'C:\\\\Dhruba Research Drive\\\\edem_enh\\\\Class_enh\\\\test')\n",
    "\n",
    "####################################################################################################\n",
    "\n",
    "target_dict_test={k: v for v, k in enumerate(np.unique(class_test))}\n",
    "target_val_test=  [target_dict_test[class_test[i]] for i in range(len(class_test))]\n",
    "print(target_dict_test)\n",
    "\n",
    "#######################################################################################################\n",
    "\n",
    "target_dict_test2={k: v for v, k in enumerate(np.unique(class_test2))}\n",
    "target_val_test2=  [target_dict_test2[class_test2[i]] for i in range(len(class_test2))]\n",
    "print(target_dict_test2)\n",
    "\n",
    "#######################################################################################################\n",
    "### Ede_F tumor Shape\n",
    "## For Test Set ###\n",
    "x_test=np.array(img_test, np.float32)\n",
    "y_test=np.array(list(map(int,target_val_test)), np.float32)\n",
    "X_test = np.expand_dims(x_test, axis=4)\n",
    "\n",
    "## Enh_CE tumor shape \n",
    "## For Test Set ###\n",
    "x_test2=np.array(img_test2, np.float32)\n",
    "y_test2=np.array(list(map(int,target_val_test2)), np.float32)\n",
    "X_test2 = np.expand_dims(x_test2, axis=4)\n",
    "\n",
    "print(\"################ Ede_F tumor shapes #####################\")\n",
    "print(X_test.shape)\n",
    "print(y_test.shape)\n",
    "\n",
    "print(\"############## Enh_CE tumor Shapes ############################\")\n",
    "print(X_test2.shape)\n",
    "print(y_test2.shape)"
   ]
  },
  {
   "cell_type": "code",
   "execution_count": 3,
   "id": "chubby-madagascar",
   "metadata": {},
   "outputs": [
    {
     "name": "stdout",
     "output_type": "stream",
     "text": [
      "{'GBM': 0, 'LYM': 1, 'Mets': 2}\n",
      "{'GBM': 0, 'LYM': 1, 'Mets': 2}\n",
      "################ Ede_F tumor shapes #####################\n",
      "(47, 128, 128, 64, 1)\n",
      "(47,)\n",
      "############## Enh_CE tumor Shapes ############################\n",
      "(47, 128, 128, 64, 1)\n",
      "(47,)\n"
     ]
    }
   ],
   "source": [
    "### External Validation Dataset ########\n",
    "\n",
    "\n",
    "import nibabel as nib\n",
    "def create_dataset(img_folder):\n",
    "   \n",
    "    img_data_array=[]\n",
    "    class_name=[]\n",
    "   \n",
    "    for dir1 in os.listdir(img_folder):\n",
    "        for file in os.listdir(os.path.join(img_folder, dir1)):\n",
    "       \n",
    "            image_path= os.path.join(img_folder, dir1,  file)\n",
    "            image = nib.load(image_path)\n",
    "            img = image.get_fdata()\n",
    "            img = zoom(img, (0.533, 0.533, 0.413)) \n",
    "            img [img<0] = 0\n",
    "            img_nor = img / np.max(img)\n",
    "            img_nor = img_nor.astype(np.float32)\n",
    "            \n",
    "            img_data_array.append(img_nor)\n",
    "            class_name.append(dir1)\n",
    "    return img_data_array, class_name\n",
    "\n",
    "# extract the image array and class name\n",
    "\n",
    "img_test, class_test =create_dataset(r'C:\\\\Dhruba Research Drive\\\\edem_enh_external\\\\Class_edema')\n",
    "img_test2, class_test2 =create_dataset(r'C:\\\\Dhruba Research Drive\\\\edem_enh_external\\\\Class_enh')\n",
    "\n",
    "####################################################################################################\n",
    "\n",
    "target_dict_test={k: v for v, k in enumerate(np.unique(class_test))}\n",
    "target_val_test=  [target_dict_test[class_test[i]] for i in range(len(class_test))]\n",
    "print(target_dict_test)\n",
    "\n",
    "#######################################################################################################\n",
    "\n",
    "target_dict_test2={k: v for v, k in enumerate(np.unique(class_test2))}\n",
    "target_val_test2=  [target_dict_test2[class_test2[i]] for i in range(len(class_test2))]\n",
    "print(target_dict_test2)\n",
    "\n",
    "#######################################################################################################\n",
    "### Ede_F tumor Shape\n",
    "## For Test Set ###\n",
    "x_test=np.array(img_test, np.float32)\n",
    "y_test=np.array(list(map(int,target_val_test)), np.float32)\n",
    "X_test = np.expand_dims(x_test, axis=4)\n",
    "\n",
    "## Enh_CE tumor shape \n",
    "## For Test Set ###\n",
    "x_test2=np.array(img_test2, np.float32)\n",
    "y_test2=np.array(list(map(int,target_val_test2)), np.float32)\n",
    "X_test2 = np.expand_dims(x_test2, axis=4)\n",
    "\n",
    "print(\"################ Ede_F tumor shapes #####################\")\n",
    "print(X_test.shape)\n",
    "print(y_test.shape)\n",
    "\n",
    "print(\"############## Enh_CE tumor Shapes ############################\")\n",
    "print(X_test2.shape)\n",
    "print(y_test2.shape)"
   ]
  },
  {
   "cell_type": "code",
   "execution_count": 24,
   "id": "talented-statistics",
   "metadata": {},
   "outputs": [
    {
     "name": "stdout",
     "output_type": "stream",
     "text": [
      "(141, 128, 128, 64, 1)\n",
      "(141,)\n",
      "(141, 128, 128, 64, 1)\n",
      "(141,)\n"
     ]
    }
   ],
   "source": [
    "from scipy import ndimage\n",
    "img_aug_array=[]\n",
    "class_aug_array = []\n",
    "angles = np.arange(-5, 6, 5)\n",
    "for d in range (y_train2.shape[0]):\n",
    "    for e in range (3):\n",
    "            volume = ndimage.rotate(img_train2[d], angles[e], reshape=False)\n",
    "            img_aug_array.append(volume)\n",
    "            \n",
    "            y_train_class = y_train2[d]\n",
    "            class_aug_array.append(y_train_class)\n",
    "\n",
    "X_train_aug2 = np.array(img_aug_array, np.float32)\n",
    "X_train_aug2 = np.expand_dims(X_train_aug2, axis=4)\n",
    "print(X_train_aug2.shape)\n",
    "\n",
    "y_train_aug2 = np.array(class_aug_array, np.float32)\n",
    "print(y_train_aug2.shape)\n",
    "\n",
    "img_aug_array=[]\n",
    "class_aug_array = []\n",
    "angles = np.arange(-5, 6, 5)\n",
    "for d in range (y_train4.shape[0]):\n",
    "    for e in range (3):\n",
    "            volume = ndimage.rotate(img_train4[d], angles[e], reshape=False)\n",
    "            img_aug_array.append(volume)\n",
    "            \n",
    "            y_train_class = y_train4[d]\n",
    "            class_aug_array.append(y_train_class)\n",
    "\n",
    "X_train_aug2_2 = np.array(img_aug_array, np.float32)\n",
    "X_train_aug2_2 = np.expand_dims(X_train_aug2_2, axis=4)\n",
    "print(X_train_aug2_2.shape)\n",
    "\n",
    "y_train_aug2_2 = np.array(class_aug_array, np.float32)\n",
    "print(y_train_aug2_2.shape)"
   ]
  },
  {
   "cell_type": "code",
   "execution_count": 25,
   "id": "reverse-houston",
   "metadata": {},
   "outputs": [
    {
     "name": "stdout",
     "output_type": "stream",
     "text": [
      "(440, 128, 128, 64, 1)\n",
      "(440, 128, 128, 64, 1)\n",
      "(440,)\n",
      "(440,)\n"
     ]
    }
   ],
   "source": [
    "X_train1 = np.concatenate((X_train1, X_train_aug2), axis=0)\n",
    "print(X_train1.shape)\n",
    "X_train2 = np.concatenate((X_train3, X_train_aug2_2), axis=0)\n",
    "print(X_train2.shape)\n",
    "\n",
    "y_train1 = np.concatenate((y_train1, y_train_aug2), axis=0)\n",
    "print(y_train1.shape)\n",
    "y_train2 = np.concatenate((y_train3, y_train_aug2_2), axis=0)\n",
    "print(y_train2.shape)"
   ]
  },
  {
   "cell_type": "code",
   "execution_count": 26,
   "id": "protected-milton",
   "metadata": {},
   "outputs": [
    {
     "name": "stdout",
     "output_type": "stream",
     "text": [
      "(2640, 128, 128, 64, 1)\n",
      "(2640,)\n",
      "(2640, 128, 128, 64, 1)\n",
      "(2640,)\n"
     ]
    }
   ],
   "source": [
    "import scipy\n",
    "\n",
    "def scaleit(image, factor, isseg=False):\n",
    "    order = 0 if isseg == True else 3\n",
    "\n",
    "    height, width, depth= image.shape\n",
    "    zheight             = int(np.round(factor * height))\n",
    "    zwidth              = int(np.round(factor * width))\n",
    "    zdepth              = depth\n",
    "\n",
    "    if factor < 1.0:\n",
    "        newimg  = np.zeros_like(image)\n",
    "        row     = (height - zheight) // 2\n",
    "        col     = (width - zwidth) // 2\n",
    "        layer   = (depth - zdepth) // 2\n",
    "        newimg[row:row+zheight, col:col+zwidth, layer:layer+zdepth] = scipy.ndimage.interpolation.zoom(image, (float(factor), float(factor), 1.0), order=order, mode='nearest')[0:zheight, 0:zwidth, 0:zdepth]\n",
    "\n",
    "        return newimg\n",
    "\n",
    "    elif factor > 1.0:\n",
    "        row     = (zheight - height) // 2\n",
    "        col     = (zwidth - width) // 2\n",
    "        layer   = (zdepth - depth) // 2\n",
    "\n",
    "        newimg = scipy.ndimage.interpolation.zoom(image[row:row+zheight, col:col+zwidth, layer:layer+zdepth], (float(factor), float(factor), 1.0), order=order, mode='nearest')  \n",
    "        \n",
    "        extrah = (newimg.shape[0] - height) // 2\n",
    "        extraw = (newimg.shape[1] - width) // 2\n",
    "        extrad = (newimg.shape[2] - depth) // 2\n",
    "        newimg = newimg[extrah:extrah+height, extraw:extraw+width, extrad:extrad+depth]\n",
    "\n",
    "        return newimg\n",
    "\n",
    "    else:\n",
    "        return image\n",
    "    \n",
    "################################ CE  ######################################\n",
    "\n",
    "img_aug_array=[]\n",
    "class_aug_array = []\n",
    "zoom = [0.9, 0.95, 1.0, 1.05, 1.1, 1.15]\n",
    "for d in range (y_train1.shape[0]):\n",
    "    for e in range (6):\n",
    "            volume = scaleit(X_train1[d, :, :, :, 0], zoom[e], isseg=False)\n",
    "            img_aug_array.append(volume)\n",
    "            \n",
    "            y_train_class = y_train1[d]\n",
    "            class_aug_array.append(y_train_class)\n",
    "        \n",
    "X_train_aug1_2 = np.array(img_aug_array, np.float32)\n",
    "X_train_aug1_2 = np.expand_dims(X_train_aug1_2, axis=4)\n",
    "print(X_train_aug1_2.shape)\n",
    "\n",
    "y_train_aug1_2 = np.array(class_aug_array, np.float32)\n",
    "print(y_train_aug1_2.shape)\n",
    "\n",
    "################################ T2  ######################################\n",
    "\n",
    "img_aug_array=[]\n",
    "class_aug_array = []\n",
    "zoom = [0.9, 0.95, 1.0, 1.05, 1.1, 1.15]\n",
    "for d in range (y_train2.shape[0]):\n",
    "    for e in range (6):\n",
    "            volume = scaleit(X_train2[d, :, :, :, 0], zoom[e], isseg=False)\n",
    "            img_aug_array.append(volume)\n",
    "            \n",
    "            y_train_class = y_train2[d]\n",
    "            class_aug_array.append(y_train_class)\n",
    "        \n",
    "X_train_aug2_2 = np.array(img_aug_array, np.float32)\n",
    "X_train_aug2_2 = np.expand_dims(X_train_aug2_2, axis=4)\n",
    "print(X_train_aug2_2.shape)\n",
    "\n",
    "y_train_aug2_2 = np.array(class_aug_array, np.float32)\n",
    "print(y_train_aug2_2.shape)"
   ]
  },
  {
   "cell_type": "code",
   "execution_count": 27,
   "id": "passive-nancy",
   "metadata": {},
   "outputs": [
    {
     "name": "stdout",
     "output_type": "stream",
     "text": [
      "(5280, 128, 128, 64, 1)\n",
      "(5280,)\n",
      "(5280, 128, 128, 64, 1)\n",
      "(5280,)\n"
     ]
    }
   ],
   "source": [
    "X_train_f1 = X_train_aug1_2[:, ::-1, :]\n",
    "y_train_f1 = y_train_aug1_2\n",
    "\n",
    "X_train_aug1 = np.concatenate((X_train_aug1_2, X_train_f1), axis=0)\n",
    "print(X_train_aug1.shape)\n",
    "y_train_aug1 = np.concatenate((y_train_aug1_2, y_train_f1), axis=0)\n",
    "print(y_train_aug1.shape)\n",
    "\n",
    "X_train_f2 = X_train_aug2_2[:, ::-1, :]\n",
    "y_train_f2 = y_train_aug2_2\n",
    "\n",
    "X_train_aug2 = np.concatenate((X_train_aug2_2, X_train_f2), axis=0)\n",
    "print(X_train_aug2.shape)\n",
    "y_train_aug2 = np.concatenate((y_train_aug2_2, y_train_f2), axis=0)\n",
    "print(y_train_aug2.shape)"
   ]
  },
  {
   "cell_type": "code",
   "execution_count": 28,
   "id": "indonesian-idaho",
   "metadata": {},
   "outputs": [
    {
     "name": "stdout",
     "output_type": "stream",
     "text": [
      "[0. 0. 0. 0. 0. 0. 0. 0. 0. 0. 0. 0. 0. 0. 0. 0. 0. 0. 0. 0. 1. 1. 1. 1.\n",
      " 1. 1. 2. 2. 2. 2. 2. 2. 2. 2. 2. 2. 2. 2. 2. 2. 2. 2. 2. 2. 2. 2. 2.]\n",
      "[0. 0. 0. 0. 0. 0. 0. 0. 0. 0. 0. 0. 0. 0. 0. 0. 0. 0. 0. 0. 1. 1. 1. 1.\n",
      " 1. 1. 2. 2. 2. 2. 2. 2. 2. 2. 2. 2. 2. 2. 2. 2. 2. 2. 2. 2. 2. 2. 2.]\n"
     ]
    }
   ],
   "source": [
    "y_train_enc1 = to_categorical(y_train_aug1)\n",
    "y_test_enc1 = to_categorical (y_test)\n",
    "y_val_enc1 = to_categorical (y_val)\n",
    "print(y_val)\n",
    "############################################################\n",
    "y_train_enc2 = to_categorical(y_train_aug2)\n",
    "y_test_enc2 = to_categorical (y_test2)\n",
    "y_val_enc2 = to_categorical (y_val2)\n",
    "print(y_val2)"
   ]
  },
  {
   "cell_type": "code",
   "execution_count": 4,
   "id": "anticipated-familiar",
   "metadata": {},
   "outputs": [],
   "source": [
    "y_test_enc1 = to_categorical (y_test)\n",
    "y_test_enc2 = to_categorical (y_test2)"
   ]
  },
  {
   "cell_type": "code",
   "execution_count": 30,
   "id": "acquired-requirement",
   "metadata": {},
   "outputs": [
    {
     "name": "stdout",
     "output_type": "stream",
     "text": [
      "Train on 5280 samples, validate on 85 samples\n",
      "Epoch 1/15\n",
      "5280/5280 [==============================] - ETA: 0s - loss: 0.2944 - acc: 0.8894\n",
      "Epoch 00001: saving model to exter_CstmNt2_edeF_enhCE_3class.epoch01-acc0.52.hdf5\n",
      "5280/5280 [==============================] - 473s 89ms/sample - loss: 0.2944 - acc: 0.8894 - val_loss: 1.8602 - val_acc: 0.5176\n",
      "Epoch 2/15\n",
      "5280/5280 [==============================] - ETA: 0s - loss: 0.1263 - acc: 0.9555\n",
      "Epoch 00002: saving model to exter_CstmNt2_edeF_enhCE_3class.epoch02-acc0.69.hdf5\n",
      "5280/5280 [==============================] - 468s 89ms/sample - loss: 0.1263 - acc: 0.9555 - val_loss: 1.3415 - val_acc: 0.6941\n",
      "Epoch 3/15\n",
      "5280/5280 [==============================] - ETA: 0s - loss: 0.0756 - acc: 0.9729\n",
      "Epoch 00003: saving model to exter_CstmNt2_edeF_enhCE_3class.epoch03-acc0.60.hdf5\n",
      "5280/5280 [==============================] - 458s 87ms/sample - loss: 0.0756 - acc: 0.9729 - val_loss: 1.8336 - val_acc: 0.6000\n",
      "Epoch 4/15\n",
      "5280/5280 [==============================] - ETA: 0s - loss: 0.0523 - acc: 0.9818\n",
      "Epoch 00004: saving model to exter_CstmNt2_edeF_enhCE_3class.epoch04-acc0.69.hdf5\n",
      "5280/5280 [==============================] - 448s 85ms/sample - loss: 0.0523 - acc: 0.9818 - val_loss: 1.4012 - val_acc: 0.6941\n",
      "Epoch 5/15\n",
      "5280/5280 [==============================] - ETA: 0s - loss: 0.0402 - acc: 0.9879\n",
      "Epoch 00005: saving model to exter_CstmNt2_edeF_enhCE_3class.epoch05-acc0.49.hdf5\n",
      "5280/5280 [==============================] - 446s 85ms/sample - loss: 0.0402 - acc: 0.9879 - val_loss: 3.0312 - val_acc: 0.4941\n",
      "Epoch 6/15\n",
      " 110/5280 [..............................] - ETA: 7:12 - loss: 0.0118 - acc: 1.0000"
     ]
    },
    {
     "ename": "KeyboardInterrupt",
     "evalue": "",
     "output_type": "error",
     "traceback": [
      "\u001b[1;31m---------------------------------------------------------------------------\u001b[0m",
      "\u001b[1;31mKeyboardInterrupt\u001b[0m                         Traceback (most recent call last)",
      "\u001b[1;32m<ipython-input-30-9bf82cd00fa1>\u001b[0m in \u001b[0;36m<module>\u001b[1;34m\u001b[0m\n\u001b[0;32m     31\u001b[0m               metrics=['accuracy'])\n\u001b[0;32m     32\u001b[0m \u001b[1;33m\u001b[0m\u001b[0m\n\u001b[1;32m---> 33\u001b[1;33m results=model.fit(\n\u001b[0m\u001b[0;32m     34\u001b[0m           \u001b[0mx\u001b[0m\u001b[1;33m=\u001b[0m\u001b[1;33m[\u001b[0m\u001b[0mX_train_aug1\u001b[0m\u001b[1;33m,\u001b[0m \u001b[0mX_train_aug2\u001b[0m\u001b[1;33m]\u001b[0m\u001b[1;33m,\u001b[0m\u001b[1;33m\u001b[0m\u001b[1;33m\u001b[0m\u001b[0m\n\u001b[0;32m     35\u001b[0m           \u001b[0my\u001b[0m\u001b[1;33m=\u001b[0m\u001b[1;33m[\u001b[0m\u001b[0my_train_enc1\u001b[0m\u001b[1;33m]\u001b[0m\u001b[1;33m,\u001b[0m\u001b[1;33m\u001b[0m\u001b[1;33m\u001b[0m\u001b[0m\n",
      "\u001b[1;32m~\\.conda\\envs\\tensorflow-gpu\\lib\\site-packages\\tensorflow\\python\\keras\\engine\\training_v1.py\u001b[0m in \u001b[0;36mfit\u001b[1;34m(self, x, y, batch_size, epochs, verbose, callbacks, validation_split, validation_data, shuffle, class_weight, sample_weight, initial_epoch, steps_per_epoch, validation_steps, validation_freq, max_queue_size, workers, use_multiprocessing, **kwargs)\u001b[0m\n\u001b[0;32m    787\u001b[0m \u001b[1;33m\u001b[0m\u001b[0m\n\u001b[0;32m    788\u001b[0m     \u001b[0mfunc\u001b[0m \u001b[1;33m=\u001b[0m \u001b[0mself\u001b[0m\u001b[1;33m.\u001b[0m\u001b[0m_select_training_loop\u001b[0m\u001b[1;33m(\u001b[0m\u001b[0mx\u001b[0m\u001b[1;33m)\u001b[0m\u001b[1;33m\u001b[0m\u001b[1;33m\u001b[0m\u001b[0m\n\u001b[1;32m--> 789\u001b[1;33m     return func.fit(\n\u001b[0m\u001b[0;32m    790\u001b[0m         \u001b[0mself\u001b[0m\u001b[1;33m,\u001b[0m\u001b[1;33m\u001b[0m\u001b[1;33m\u001b[0m\u001b[0m\n\u001b[0;32m    791\u001b[0m         \u001b[0mx\u001b[0m\u001b[1;33m=\u001b[0m\u001b[0mx\u001b[0m\u001b[1;33m,\u001b[0m\u001b[1;33m\u001b[0m\u001b[1;33m\u001b[0m\u001b[0m\n",
      "\u001b[1;32m~\\.conda\\envs\\tensorflow-gpu\\lib\\site-packages\\tensorflow\\python\\keras\\engine\\training_arrays_v1.py\u001b[0m in \u001b[0;36mfit\u001b[1;34m(self, model, x, y, batch_size, epochs, verbose, callbacks, validation_split, validation_data, shuffle, class_weight, sample_weight, initial_epoch, steps_per_epoch, validation_steps, validation_freq, **kwargs)\u001b[0m\n\u001b[0;32m    645\u001b[0m       \u001b[0mval_x\u001b[0m\u001b[1;33m,\u001b[0m \u001b[0mval_y\u001b[0m\u001b[1;33m,\u001b[0m \u001b[0mval_sample_weights\u001b[0m \u001b[1;33m=\u001b[0m \u001b[1;32mNone\u001b[0m\u001b[1;33m,\u001b[0m \u001b[1;32mNone\u001b[0m\u001b[1;33m,\u001b[0m \u001b[1;32mNone\u001b[0m\u001b[1;33m\u001b[0m\u001b[1;33m\u001b[0m\u001b[0m\n\u001b[0;32m    646\u001b[0m \u001b[1;33m\u001b[0m\u001b[0m\n\u001b[1;32m--> 647\u001b[1;33m     return fit_loop(\n\u001b[0m\u001b[0;32m    648\u001b[0m         \u001b[0mmodel\u001b[0m\u001b[1;33m,\u001b[0m\u001b[1;33m\u001b[0m\u001b[1;33m\u001b[0m\u001b[0m\n\u001b[0;32m    649\u001b[0m         \u001b[0minputs\u001b[0m\u001b[1;33m=\u001b[0m\u001b[0mx\u001b[0m\u001b[1;33m,\u001b[0m\u001b[1;33m\u001b[0m\u001b[1;33m\u001b[0m\u001b[0m\n",
      "\u001b[1;32m~\\.conda\\envs\\tensorflow-gpu\\lib\\site-packages\\tensorflow\\python\\keras\\engine\\training_arrays_v1.py\u001b[0m in \u001b[0;36mmodel_iteration\u001b[1;34m(model, inputs, targets, sample_weights, batch_size, epochs, verbose, callbacks, val_inputs, val_targets, val_sample_weights, shuffle, initial_epoch, steps_per_epoch, validation_steps, validation_freq, mode, validation_in_fit, prepared_feed_values_from_dataset, steps_name, **kwargs)\u001b[0m\n\u001b[0;32m    382\u001b[0m \u001b[1;33m\u001b[0m\u001b[0m\n\u001b[0;32m    383\u001b[0m         \u001b[1;31m# Get outputs.\u001b[0m\u001b[1;33m\u001b[0m\u001b[1;33m\u001b[0m\u001b[1;33m\u001b[0m\u001b[0m\n\u001b[1;32m--> 384\u001b[1;33m         \u001b[0mbatch_outs\u001b[0m \u001b[1;33m=\u001b[0m \u001b[0mf\u001b[0m\u001b[1;33m(\u001b[0m\u001b[0mins_batch\u001b[0m\u001b[1;33m)\u001b[0m\u001b[1;33m\u001b[0m\u001b[1;33m\u001b[0m\u001b[0m\n\u001b[0m\u001b[0;32m    385\u001b[0m         \u001b[1;32mif\u001b[0m \u001b[1;32mnot\u001b[0m \u001b[0misinstance\u001b[0m\u001b[1;33m(\u001b[0m\u001b[0mbatch_outs\u001b[0m\u001b[1;33m,\u001b[0m \u001b[0mlist\u001b[0m\u001b[1;33m)\u001b[0m\u001b[1;33m:\u001b[0m\u001b[1;33m\u001b[0m\u001b[1;33m\u001b[0m\u001b[0m\n\u001b[0;32m    386\u001b[0m           \u001b[0mbatch_outs\u001b[0m \u001b[1;33m=\u001b[0m \u001b[1;33m[\u001b[0m\u001b[0mbatch_outs\u001b[0m\u001b[1;33m]\u001b[0m\u001b[1;33m\u001b[0m\u001b[1;33m\u001b[0m\u001b[0m\n",
      "\u001b[1;32m~\\.conda\\envs\\tensorflow-gpu\\lib\\site-packages\\tensorflow\\python\\keras\\backend.py\u001b[0m in \u001b[0;36m__call__\u001b[1;34m(self, inputs)\u001b[0m\n\u001b[0;32m   3954\u001b[0m       \u001b[0mself\u001b[0m\u001b[1;33m.\u001b[0m\u001b[0m_make_callable\u001b[0m\u001b[1;33m(\u001b[0m\u001b[0mfeed_arrays\u001b[0m\u001b[1;33m,\u001b[0m \u001b[0mfeed_symbols\u001b[0m\u001b[1;33m,\u001b[0m \u001b[0msymbol_vals\u001b[0m\u001b[1;33m,\u001b[0m \u001b[0msession\u001b[0m\u001b[1;33m)\u001b[0m\u001b[1;33m\u001b[0m\u001b[1;33m\u001b[0m\u001b[0m\n\u001b[0;32m   3955\u001b[0m \u001b[1;33m\u001b[0m\u001b[0m\n\u001b[1;32m-> 3956\u001b[1;33m     fetched = self._callable_fn(*array_vals,\n\u001b[0m\u001b[0;32m   3957\u001b[0m                                 run_metadata=self.run_metadata)\n\u001b[0;32m   3958\u001b[0m     \u001b[0mself\u001b[0m\u001b[1;33m.\u001b[0m\u001b[0m_call_fetch_callbacks\u001b[0m\u001b[1;33m(\u001b[0m\u001b[0mfetched\u001b[0m\u001b[1;33m[\u001b[0m\u001b[1;33m-\u001b[0m\u001b[0mlen\u001b[0m\u001b[1;33m(\u001b[0m\u001b[0mself\u001b[0m\u001b[1;33m.\u001b[0m\u001b[0m_fetches\u001b[0m\u001b[1;33m)\u001b[0m\u001b[1;33m:\u001b[0m\u001b[1;33m]\u001b[0m\u001b[1;33m)\u001b[0m\u001b[1;33m\u001b[0m\u001b[1;33m\u001b[0m\u001b[0m\n",
      "\u001b[1;32m~\\.conda\\envs\\tensorflow-gpu\\lib\\site-packages\\tensorflow\\python\\client\\session.py\u001b[0m in \u001b[0;36m__call__\u001b[1;34m(self, *args, **kwargs)\u001b[0m\n\u001b[0;32m   1478\u001b[0m       \u001b[1;32mtry\u001b[0m\u001b[1;33m:\u001b[0m\u001b[1;33m\u001b[0m\u001b[1;33m\u001b[0m\u001b[0m\n\u001b[0;32m   1479\u001b[0m         \u001b[0mrun_metadata_ptr\u001b[0m \u001b[1;33m=\u001b[0m \u001b[0mtf_session\u001b[0m\u001b[1;33m.\u001b[0m\u001b[0mTF_NewBuffer\u001b[0m\u001b[1;33m(\u001b[0m\u001b[1;33m)\u001b[0m \u001b[1;32mif\u001b[0m \u001b[0mrun_metadata\u001b[0m \u001b[1;32melse\u001b[0m \u001b[1;32mNone\u001b[0m\u001b[1;33m\u001b[0m\u001b[1;33m\u001b[0m\u001b[0m\n\u001b[1;32m-> 1480\u001b[1;33m         ret = tf_session.TF_SessionRunCallable(self._session._session,\n\u001b[0m\u001b[0;32m   1481\u001b[0m                                                \u001b[0mself\u001b[0m\u001b[1;33m.\u001b[0m\u001b[0m_handle\u001b[0m\u001b[1;33m,\u001b[0m \u001b[0margs\u001b[0m\u001b[1;33m,\u001b[0m\u001b[1;33m\u001b[0m\u001b[1;33m\u001b[0m\u001b[0m\n\u001b[0;32m   1482\u001b[0m                                                run_metadata_ptr)\n",
      "\u001b[1;31mKeyboardInterrupt\u001b[0m: "
     ]
    }
   ],
   "source": [
    "def sensitivity(y_true, y_pred):\n",
    "    true_positives = K.sum(K.round(K.clip(y_true * y_pred, 0, 1)))\n",
    "    possible_positives = K.sum(K.round(K.clip(y_true, 0, 1)))\n",
    "    return true_positives / (possible_positives + K.epsilon())\n",
    "\n",
    "def specificity(y_true, y_pred):\n",
    "    true_negatives = K.sum(K.round(K.clip((1-y_true) * (1-y_pred), 0, 1)))\n",
    "    possible_negatives = K.sum(K.round(K.clip(1-y_true, 0, 1)))\n",
    "    return true_negatives / (possible_negatives + K.epsilon())\n",
    "\n",
    "\n",
    "filepath = 'exter_CstmNt2_edeF_enhCE_3class.epoch{epoch:02d}-acc{val_acc:.2f}.hdf5'\n",
    "checkpoint = ModelCheckpoint(filepath=filepath, \n",
    "                             monitor='val_acc',\n",
    "                             verbose=1, \n",
    "                             save_best_only=False,\n",
    "                             mode='max')\n",
    "callbacks = [checkpoint]\n",
    "\n",
    "#for Adam optimizer\n",
    "lr_schedule = tf.keras.optimizers.schedules.ExponentialDecay(\n",
    "    initial_learning_rate=6e-4,\n",
    "    decay_steps=10000,\n",
    "    decay_rate=0.9)\n",
    "\n",
    "optim = tf.keras.optimizers.Adam(learning_rate=1e-4)\n",
    "\n",
    "\n",
    "model.compile(optimizer=optim,\n",
    "              loss='categorical_crossentropy',\n",
    "              metrics=['accuracy'])\n",
    "\n",
    "results=model.fit(\n",
    "          x=[X_train_aug1, X_train_aug2],\n",
    "          y=[y_train_enc1],\n",
    "          validation_data = ([X_test, X_test2], y_test_enc1),\n",
    "          epochs = 15,\n",
    "          batch_size = 10,\n",
    "          callbacks=callbacks)"
   ]
  },
  {
   "cell_type": "code",
   "execution_count": 62,
   "id": "searching-charge",
   "metadata": {},
   "outputs": [
    {
     "name": "stdout",
     "output_type": "stream",
     "text": [
      "dict_keys(['loss', 'accuracy', 'val_loss', 'val_accuracy'])\n"
     ]
    },
    {
     "data": {
      "image/png": "[encoded data removed]",
      "text/plain": [
       "<Figure size 432x288 with 1 Axes>"
      ]
     },
     "metadata": {
      "needs_background": "light"
     },
     "output_type": "display_data"
    },
    {
     "data": {
      "image/png": "[encoded data removed]",
      "text/plain": [
       "<Figure size 432x288 with 1 Axes>"
      ]
     },
     "metadata": {
      "needs_background": "light"
     },
     "output_type": "display_data"
    }
   ],
   "source": [
    "print(results.history.keys())\n",
    "# summarize history for accuracy\n",
    "plt.plot(results.history['accuracy'])\n",
    "plt.plot(results.history['val_accuracy'])\n",
    "plt.title('model accuracy for ResNet: Tumor class')\n",
    "plt.ylabel('accuracy')\n",
    "plt.xlabel('epoch')\n",
    "plt.legend(['train', 'val'], loc='upper left')\n",
    "plt.show()\n",
    "# summarize history for loss\n",
    "plt.plot(results.history['loss'])\n",
    "plt.plot(results.history['val_loss'])\n",
    "plt.title('model loss for ResNet: Tumor class')\n",
    "plt.ylabel('loss')\n",
    "plt.xlabel('epoch')\n",
    "plt.legend(['train', 'val'], loc='upper left')\n",
    "plt.show()"
   ]
  },
  {
   "cell_type": "code",
   "execution_count": 5,
   "id": "acting-cornell",
   "metadata": {},
   "outputs": [],
   "source": [
    "classification_model = load_model('fold1_CstmNt2_edeF_enhCE_3class.epoch03-acc0.78.hdf5', compile = False)"
   ]
  },
  {
   "cell_type": "code",
   "execution_count": 6,
   "id": "scheduled-metro",
   "metadata": {},
   "outputs": [
    {
     "name": "stderr",
     "output_type": "stream",
     "text": [
      "C:\\Users\\dhruba\\.conda\\envs\\tensorflow-gpu\\lib\\site-packages\\tensorflow\\python\\keras\\engine\\training.py:2325: UserWarning: `Model.state_updates` will be removed in a future version. This property should not be used in TensorFlow 2.0, as `updates` are applied automatically.\n",
      "  warnings.warn('`Model.state_updates` will be removed in a future version. '\n"
     ]
    },
    {
     "name": "stdout",
     "output_type": "stream",
     "text": [
      "Accuracy is: 100.0\n"
     ]
    }
   ],
   "source": [
    "from sklearn.metrics import accuracy_score\n",
    "\n",
    "y_pred = classification_model.predict(x=[X_test, X_test2], batch_size = 20)\n",
    "#Converting predictions to label\n",
    "pred = list()\n",
    "for i in range(len(y_pred)):\n",
    "    pred.append(np.argmax(y_pred[i]))\n",
    "#Converting one hot encoded test label to label\n",
    "test = list()\n",
    "for i in range(len(y_test)):\n",
    "    test.append(np.argmax(y_test_enc1[i]))\n",
    "    \n",
    "a = accuracy_score(test, pred)\n",
    "print('Accuracy is:', a*100)"
   ]
  },
  {
   "cell_type": "code",
   "execution_count": 47,
   "id": "presidential-degree",
   "metadata": {
    "scrolled": true
   },
   "outputs": [
    {
     "name": "stdout",
     "output_type": "stream",
     "text": [
      "100.0\n"
     ]
    }
   ],
   "source": [
    "import tensorflow.compat.v1 as tf\n",
    "tf.disable_v2_behavior()\n",
    "def top_2_categorical_accuracy(y_test_enc1, y_pred):\n",
    "    return top_k_categorical_accuracy(y_test_enc1, y_pred, k=2)\n",
    "m = top_k_categorical_accuracy(y_test_enc1, y_pred, k=2)\n",
    "\n",
    "with tf.Session() as sess:  print(sum(m.eval())/np.shape(y_test)[0]*100)"
   ]
  },
  {
   "cell_type": "code",
   "execution_count": 7,
   "id": "least-supplier",
   "metadata": {},
   "outputs": [
    {
     "data": {
      "text/plain": [
       "array([[9.89897966e-01, 8.42756650e-04, 9.25927982e-03],\n",
       "       [9.88406181e-01, 5.82554331e-03, 5.76837966e-03],\n",
       "       [9.93992388e-01, 7.64973302e-05, 5.93110174e-03],\n",
       "       [9.92060423e-01, 1.48529676e-03, 6.45436998e-03],\n",
       "       [9.91002679e-01, 1.02492992e-03, 7.97239691e-03],\n",
       "       [9.99550998e-01, 6.72490205e-05, 3.81801685e-04],\n",
       "       [9.96666133e-01, 1.00926822e-03, 2.32457253e-03],\n",
       "       [9.99031067e-01, 3.78343771e-04, 5.90620330e-04],\n",
       "       [9.98449206e-01, 4.57427523e-04, 1.09330565e-03],\n",
       "       [9.88225222e-01, 6.78912876e-03, 4.98563889e-03],\n",
       "       [9.83249426e-01, 8.26408342e-03, 8.48658942e-03],\n",
       "       [9.76622462e-01, 5.17193752e-04, 2.28603911e-02],\n",
       "       [9.96514618e-01, 2.29879562e-03, 1.18664780e-03],\n",
       "       [9.98903871e-01, 4.11504530e-04, 6.84613013e-04],\n",
       "       [9.99722421e-01, 7.35206686e-06, 2.70117132e-04],\n",
       "       [9.96290088e-01, 2.39101471e-04, 3.47083528e-03],\n",
       "       [9.91609991e-01, 3.24896909e-03, 5.14101330e-03],\n",
       "       [9.80386436e-01, 4.52113058e-03, 1.50924269e-02],\n",
       "       [9.99866843e-01, 1.91326471e-05, 1.13987400e-04],\n",
       "       [9.90065455e-01, 4.34342393e-04, 9.50020924e-03],\n",
       "       [2.11743470e-02, 9.78683472e-01, 1.42252349e-04],\n",
       "       [4.39375406e-03, 9.95585799e-01, 2.04376101e-05],\n",
       "       [3.59075004e-03, 9.95534301e-01, 8.74927500e-04],\n",
       "       [5.04863798e-04, 9.99480903e-01, 1.42719882e-05],\n",
       "       [5.39926579e-04, 9.97974098e-01, 1.48604065e-03],\n",
       "       [1.19970199e-02, 9.84724700e-01, 3.27831553e-03],\n",
       "       [6.22698804e-04, 1.78700546e-03, 9.97590303e-01],\n",
       "       [1.67339500e-02, 1.55733869e-04, 9.83110309e-01],\n",
       "       [1.65634483e-04, 3.88321168e-05, 9.99795496e-01],\n",
       "       [1.26175769e-03, 1.03008562e-04, 9.98635232e-01],\n",
       "       [2.76226143e-04, 3.22418127e-05, 9.99691606e-01],\n",
       "       [5.74056212e-05, 2.92578570e-05, 9.99913335e-01],\n",
       "       [3.74682684e-04, 2.32063886e-03, 9.97304678e-01],\n",
       "       [2.72928089e-01, 3.79412132e-03, 7.23277748e-01],\n",
       "       [1.12426560e-02, 2.55931448e-03, 9.86198008e-01],\n",
       "       [3.58459051e-03, 1.30520028e-04, 9.96284842e-01],\n",
       "       [3.13184806e-03, 6.48759364e-04, 9.96219456e-01],\n",
       "       [1.17514073e-03, 1.46260063e-04, 9.98678625e-01],\n",
       "       [5.10268474e-05, 2.05315755e-05, 9.99928474e-01],\n",
       "       [2.49568835e-01, 4.38276073e-03, 7.46048331e-01],\n",
       "       [2.75783171e-03, 5.09330421e-04, 9.96732831e-01],\n",
       "       [9.53675681e-06, 1.22275040e-03, 9.98767734e-01],\n",
       "       [3.66478751e-04, 3.87045118e-04, 9.99246478e-01],\n",
       "       [7.63079822e-02, 4.89027705e-04, 9.23202932e-01],\n",
       "       [1.18030995e-01, 6.20916020e-03, 8.75759780e-01],\n",
       "       [3.36434273e-03, 2.97495280e-04, 9.96338129e-01],\n",
       "       [4.08769771e-02, 1.53936213e-04, 9.58969116e-01]], dtype=float32)"
      ]
     },
     "execution_count": 7,
     "metadata": {},
     "output_type": "execute_result"
    }
   ],
   "source": [
    "y_pred"
   ]
  },
  {
   "cell_type": "code",
   "execution_count": 39,
   "id": "alpha-expert",
   "metadata": {
    "scrolled": true
   },
   "outputs": [
    {
     "data": {
      "text/plain": [
       "array([[1., 0., 0.],\n",
       "       [1., 0., 0.],\n",
       "       [1., 0., 0.],\n",
       "       [1., 0., 0.],\n",
       "       [1., 0., 0.],\n",
       "       [1., 0., 0.],\n",
       "       [1., 0., 0.],\n",
       "       [1., 0., 0.],\n",
       "       [1., 0., 0.],\n",
       "       [1., 0., 0.],\n",
       "       [1., 0., 0.],\n",
       "       [1., 0., 0.],\n",
       "       [1., 0., 0.],\n",
       "       [1., 0., 0.],\n",
       "       [1., 0., 0.],\n",
       "       [1., 0., 0.],\n",
       "       [1., 0., 0.],\n",
       "       [1., 0., 0.],\n",
       "       [1., 0., 0.],\n",
       "       [1., 0., 0.],\n",
       "       [0., 1., 0.],\n",
       "       [0., 1., 0.],\n",
       "       [0., 1., 0.],\n",
       "       [0., 1., 0.],\n",
       "       [0., 1., 0.],\n",
       "       [0., 1., 0.],\n",
       "       [0., 0., 1.],\n",
       "       [0., 0., 1.],\n",
       "       [0., 0., 1.],\n",
       "       [0., 0., 1.],\n",
       "       [0., 0., 1.],\n",
       "       [0., 0., 1.],\n",
       "       [0., 0., 1.],\n",
       "       [0., 0., 1.],\n",
       "       [0., 0., 1.],\n",
       "       [0., 0., 1.],\n",
       "       [0., 0., 1.],\n",
       "       [0., 0., 1.],\n",
       "       [0., 0., 1.],\n",
       "       [0., 0., 1.],\n",
       "       [0., 0., 1.],\n",
       "       [0., 0., 1.],\n",
       "       [0., 0., 1.],\n",
       "       [0., 0., 1.],\n",
       "       [0., 0., 1.],\n",
       "       [0., 0., 1.],\n",
       "       [0., 0., 1.]], dtype=float32)"
      ]
     },
     "execution_count": 39,
     "metadata": {},
     "output_type": "execute_result"
    }
   ],
   "source": [
    "y_test_enc1"
   ]
  },
  {
   "cell_type": "code",
   "execution_count": 40,
   "id": "american-colleague",
   "metadata": {},
   "outputs": [
    {
     "name": "stdout",
     "output_type": "stream",
     "text": [
      "Ground Truth for external Validation set:\n",
      "[0, 0, 0, 0, 0, 0, 0, 0, 0, 0, 0, 0, 0, 0, 0, 0, 0, 0, 0, 0, 1, 1, 1, 1, 1, 1, 2, 2, 2, 2, 2, 2, 2, 2, 2, 2, 2, 2, 2, 2, 2, 2, 2, 2, 2, 2, 2]\n",
      "Prediction for external Validation set:\n",
      "[0, 0, 0, 0, 0, 0, 0, 0, 0, 0, 0, 0, 0, 0, 0, 0, 0, 0, 0, 0, 1, 1, 1, 1, 1, 1, 2, 2, 2, 2, 2, 2, 2, 2, 2, 2, 2, 2, 2, 2, 2, 2, 2, 2, 2, 2, 2]\n"
     ]
    }
   ],
   "source": [
    "print('Ground Truth for external Validation set:')\n",
    "print(test)\n",
    "print('Prediction for external Validation set:')\n",
    "print(pred)"
   ]
  },
  {
   "cell_type": "code",
   "execution_count": 42,
   "id": "classified-cisco",
   "metadata": {},
   "outputs": [
    {
     "data": {
      "text/plain": [
       "dtype('int64')"
      ]
     },
     "execution_count": 42,
     "metadata": {},
     "output_type": "execute_result"
    }
   ],
   "source": [
    "y_pred_int = np.argmax(y_pred, axis=1) \n",
    "y_pred_int.dtype"
   ]
  },
  {
   "cell_type": "code",
   "execution_count": 43,
   "id": "unique-zoning",
   "metadata": {},
   "outputs": [
    {
     "data": {
      "text/plain": [
       "dtype('int64')"
      ]
     },
     "execution_count": 43,
     "metadata": {},
     "output_type": "execute_result"
    }
   ],
   "source": [
    "y_test = y_test.astype(np.int64)\n",
    "y_test.dtype"
   ]
  },
  {
   "cell_type": "code",
   "execution_count": 44,
   "id": "fluid-valuable",
   "metadata": {},
   "outputs": [
    {
     "name": "stdout",
     "output_type": "stream",
     "text": [
      "              precision    recall  f1-score   support\n",
      "\n",
      "         GBM       1.00      1.00      1.00        20\n",
      "         LYM       1.00      1.00      1.00         6\n",
      "        Mets       1.00      1.00      1.00        21\n",
      "\n",
      "    accuracy                           1.00        47\n",
      "   macro avg       1.00      1.00      1.00        47\n",
      "weighted avg       1.00      1.00      1.00        47\n",
      "\n"
     ]
    }
   ],
   "source": [
    "from sklearn.metrics import classification_report\n",
    "\n",
    "target_names = ['GBM', 'LYM', 'Mets']\n",
    "print(classification_report(y_test, y_pred_int, target_names=target_names))"
   ]
  }
 ],
 "metadata": {
  "kernelspec": {
   "display_name": "Python 3",
   "language": "python",
   "name": "python3"
  },
  "language_info": {
   "codemirror_mode": {
    "name": "ipython",
    "version": 3
   },
   "file_extension": ".py",
   "mimetype": "text/x-python",
   "name": "python",
   "nbconvert_exporter": "python",
   "pygments_lexer": "ipython3",
   "version": "3.8.5"
  }
 },
 "nbformat": 4,
 "nbformat_minor": 5
}
